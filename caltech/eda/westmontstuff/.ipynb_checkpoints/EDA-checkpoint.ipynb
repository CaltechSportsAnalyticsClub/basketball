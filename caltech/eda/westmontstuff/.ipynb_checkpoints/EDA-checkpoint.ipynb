{
 "cells": [
  {
   "cell_type": "code",
   "execution_count": 2,
   "id": "gorgeous-torture",
   "metadata": {},
   "outputs": [],
   "source": [
    "import pandas as pd"
   ]
  },
  {
   "cell_type": "code",
   "execution_count": 3,
   "id": "nervous-revolution",
   "metadata": {},
   "outputs": [],
   "source": [
    "def team_big_csv(team_name):\n",
    "    offense = pd.read_csv(f\"{team_name}offense.csv\", skiprows=1)\n",
    "    defense = pd.read_csv(f\"{team_name}defense.csv\", skiprows=1)\n",
    "    offense[\"Type\"] = \"Offense\"\n",
    "    defense[\"Type\"] = \"Defense\"\n",
    "    both = pd.concat([offense, defense])\n",
    "    both[\"Rating\"] = both[\"Pts\"]/both[\"Poss\"] * 100\n",
    "    both[\"Pace\"] = ((both[\"Poss\"].sum()/(both[\"GP\"] * 40))*40)/2\n",
    "    return both"
   ]
  },
  {
   "cell_type": "code",
   "execution_count": 4,
   "id": "figured-porcelain",
   "metadata": {},
   "outputs": [],
   "source": [
    "def a_csv(file_name):\n",
    "    df = pd.read_csv(f\"{file_name}.csv\", skiprows=1)\n",
    "    df[\"Rating\"] = df[\"Pts\"]/df[\"Poss\"] * 100\n",
    "    df[\"Pace\"] = ((df[\"Poss\"].sum()/(df[\"GP\"] * 40))*40)/2\n",
    "    return df"
   ]
  },
  {
   "cell_type": "code",
   "execution_count": 5,
   "id": "paperback-aurora",
   "metadata": {},
   "outputs": [],
   "source": [
    "caltech = team_big_csv(\"caltech\")\n",
    "westmont = team_big_csv(\"westmont\")"
   ]
  },
  {
   "cell_type": "code",
   "execution_count": 6,
   "id": "fixed-defeat",
   "metadata": {},
   "outputs": [],
   "source": [
    "both = pd.concat([caltech, westmont])"
   ]
  },
  {
   "cell_type": "code",
   "execution_count": 7,
   "id": "elegant-congo",
   "metadata": {},
   "outputs": [
    {
     "data": {
      "text/html": [
       "<div>\n",
       "<style scoped>\n",
       "    .dataframe tbody tr th:only-of-type {\n",
       "        vertical-align: middle;\n",
       "    }\n",
       "\n",
       "    .dataframe tbody tr th {\n",
       "        vertical-align: top;\n",
       "    }\n",
       "\n",
       "    .dataframe thead th {\n",
       "        text-align: right;\n",
       "    }\n",
       "</style>\n",
       "<table border=\"1\" class=\"dataframe\">\n",
       "  <thead>\n",
       "    <tr style=\"text-align: right;\">\n",
       "      <th></th>\n",
       "      <th>#</th>\n",
       "      <th>Team</th>\n",
       "      <th>GP</th>\n",
       "      <th>%Time</th>\n",
       "      <th>Poss</th>\n",
       "      <th>Pts</th>\n",
       "      <th>PPP</th>\n",
       "      <th>FG Miss</th>\n",
       "      <th>FG Made</th>\n",
       "      <th>FG Att</th>\n",
       "      <th>FG%</th>\n",
       "      <th>eFG%</th>\n",
       "      <th>TO%</th>\n",
       "      <th>%FT</th>\n",
       "      <th>%SF</th>\n",
       "      <th>Score%</th>\n",
       "      <th>Type</th>\n",
       "      <th>Rating</th>\n",
       "      <th>Pace</th>\n",
       "    </tr>\n",
       "  </thead>\n",
       "  <tbody>\n",
       "    <tr>\n",
       "      <th>0</th>\n",
       "      <td>1</td>\n",
       "      <td>Caltech Beavers</td>\n",
       "      <td>27</td>\n",
       "      <td>100</td>\n",
       "      <td>2272</td>\n",
       "      <td>1803</td>\n",
       "      <td>0.794</td>\n",
       "      <td>1000</td>\n",
       "      <td>643</td>\n",
       "      <td>1643</td>\n",
       "      <td>39.1</td>\n",
       "      <td>46.4</td>\n",
       "      <td>19.4</td>\n",
       "      <td>10.6</td>\n",
       "      <td>7.4</td>\n",
       "      <td>35.2</td>\n",
       "      <td>Offense</td>\n",
       "      <td>79.357394</td>\n",
       "      <td>82.018519</td>\n",
       "    </tr>\n",
       "    <tr>\n",
       "      <th>0</th>\n",
       "      <td>1</td>\n",
       "      <td>Caltech Beavers</td>\n",
       "      <td>27</td>\n",
       "      <td>100</td>\n",
       "      <td>2157</td>\n",
       "      <td>1910</td>\n",
       "      <td>0.885</td>\n",
       "      <td>886</td>\n",
       "      <td>677</td>\n",
       "      <td>1563</td>\n",
       "      <td>43.3</td>\n",
       "      <td>49.2</td>\n",
       "      <td>16.0</td>\n",
       "      <td>13.2</td>\n",
       "      <td>8.3</td>\n",
       "      <td>41.1</td>\n",
       "      <td>Defense</td>\n",
       "      <td>88.548911</td>\n",
       "      <td>82.018519</td>\n",
       "    </tr>\n",
       "    <tr>\n",
       "      <th>0</th>\n",
       "      <td>1</td>\n",
       "      <td>Westmont Warriors</td>\n",
       "      <td>27</td>\n",
       "      <td>100</td>\n",
       "      <td>2265</td>\n",
       "      <td>2132</td>\n",
       "      <td>0.941</td>\n",
       "      <td>900</td>\n",
       "      <td>782</td>\n",
       "      <td>1682</td>\n",
       "      <td>46.5</td>\n",
       "      <td>53.7</td>\n",
       "      <td>16.7</td>\n",
       "      <td>11.3</td>\n",
       "      <td>8.3</td>\n",
       "      <td>42.4</td>\n",
       "      <td>Offense</td>\n",
       "      <td>94.128035</td>\n",
       "      <td>85.037037</td>\n",
       "    </tr>\n",
       "    <tr>\n",
       "      <th>0</th>\n",
       "      <td>1</td>\n",
       "      <td>Westmont Warriors</td>\n",
       "      <td>27</td>\n",
       "      <td>100</td>\n",
       "      <td>2327</td>\n",
       "      <td>2066</td>\n",
       "      <td>0.888</td>\n",
       "      <td>1017</td>\n",
       "      <td>769</td>\n",
       "      <td>1786</td>\n",
       "      <td>43.1</td>\n",
       "      <td>49.2</td>\n",
       "      <td>15.2</td>\n",
       "      <td>10.1</td>\n",
       "      <td>8.4</td>\n",
       "      <td>40.4</td>\n",
       "      <td>Defense</td>\n",
       "      <td>88.783842</td>\n",
       "      <td>85.037037</td>\n",
       "    </tr>\n",
       "  </tbody>\n",
       "</table>\n",
       "</div>"
      ],
      "text/plain": [
       "   #               Team  GP  %Time  Poss   Pts    PPP  FG Miss  FG Made  \\\n",
       "0  1    Caltech Beavers  27    100  2272  1803  0.794     1000      643   \n",
       "0  1    Caltech Beavers  27    100  2157  1910  0.885      886      677   \n",
       "0  1  Westmont Warriors  27    100  2265  2132  0.941      900      782   \n",
       "0  1  Westmont Warriors  27    100  2327  2066  0.888     1017      769   \n",
       "\n",
       "   FG Att   FG%  eFG%   TO%   %FT  %SF  Score%     Type     Rating       Pace  \n",
       "0    1643  39.1  46.4  19.4  10.6  7.4    35.2  Offense  79.357394  82.018519  \n",
       "0    1563  43.3  49.2  16.0  13.2  8.3    41.1  Defense  88.548911  82.018519  \n",
       "0    1682  46.5  53.7  16.7  11.3  8.3    42.4  Offense  94.128035  85.037037  \n",
       "0    1786  43.1  49.2  15.2  10.1  8.4    40.4  Defense  88.783842  85.037037  "
      ]
     },
     "execution_count": 7,
     "metadata": {},
     "output_type": "execute_result"
    }
   ],
   "source": [
    "both"
   ]
  },
  {
   "cell_type": "code",
   "execution_count": 91,
   "id": "final-validity",
   "metadata": {},
   "outputs": [],
   "source": [
    "df = a_csv(\"playerstats\")\n",
    "threes = a_csv(\"threes\")\n",
    "threes[\"3P%\"] = threes[\"FG%\"]"
   ]
  },
  {
   "cell_type": "code",
   "execution_count": 115,
   "id": "breathing-therapy",
   "metadata": {},
   "outputs": [],
   "source": [
    "pd.merge(df, threes[[\"Player\", \"3P%\"]], on=\"Player\").to_csv(\"blah.csv\", index=False)"
   ]
  },
  {
   "cell_type": "code",
   "execution_count": 72,
   "id": "blessed-poster",
   "metadata": {},
   "outputs": [],
   "source": [
    "att_sum = {\"Near Rim\": 0, \"Midrange\": 0, \"Threes\": 0}\n",
    "att_sum[\"Near Rim\"] = a_csv(\"atrim\")[\"FG Att\"].sum() + a_csv(\"aroundbasket\")[\"FG Att\"].sum()\n",
    "att_sum[\"Midrange\"] = a_csv(\"midrange\")[\"FG Att\"].sum()\n",
    "att_sum[\"Threes\"] = a_csv(\"Threes\")[\"FG Att\"].sum()"
   ]
  },
  {
   "cell_type": "code",
   "execution_count": 73,
   "id": "funded-backup",
   "metadata": {},
   "outputs": [],
   "source": [
    "points_sum = {\"Near Rim\": 0, \"Midrange\": 0, \"Threes\": 0}\n",
    "points_sum[\"Near Rim\"] = (a_csv(\"atrim\")[\"Pts\"].sum() + a_csv(\"aroundbasket\")[\"Pts\"].sum()) / (a_csv(\"atrim\")[\"Poss\"].sum() + a_csv(\"aroundbasket\")[\"Poss\"].sum())\n",
    "points_sum[\"Midrange\"] = (a_csv(\"midrange\")[\"Pts\"].sum()) / (a_csv(\"midrange\")[\"Poss\"].sum())\n",
    "points_sum[\"Threes\"] = (a_csv(\"Threes\")[\"Pts\"].sum()) / (a_csv(\"Threes\")[\"Poss\"].sum())"
   ]
  },
  {
   "cell_type": "code",
   "execution_count": 74,
   "id": "prime-house",
   "metadata": {},
   "outputs": [
    {
     "data": {
      "text/plain": [
       "{'Near Rim': 1.2358887952822242,\n",
       " 'Midrange': 0.8898305084745762,\n",
       " 'Threes': 1.1145833333333333}"
      ]
     },
     "execution_count": 74,
     "metadata": {},
     "output_type": "execute_result"
    }
   ],
   "source": [
    "points_sum"
   ]
  },
  {
   "cell_type": "code",
   "execution_count": 75,
   "id": "impressive-friday",
   "metadata": {},
   "outputs": [],
   "source": [
    "import matplotlib.pyplot as plt"
   ]
  },
  {
   "cell_type": "code",
   "execution_count": 114,
   "id": "proper-likelihood",
   "metadata": {},
   "outputs": [
    {
     "data": {
      "image/png": "[encoded data removed]",
      "text/plain": [
       "<Figure size 360x360 with 2 Axes>"
      ]
     },
     "metadata": {
      "needs_background": "light"
     },
     "output_type": "display_data"
    }
   ],
   "source": [
    "# plt.plot(points_sum.keys(), points_sum.values())\n",
    "# plt.ylabel(\"Points Per Possession\")\n",
    "# #plt.plot(att_sum.keys(), att_sum.values())\n",
    "plt.rcParams['figure.figsize'] = [5, 5]\n",
    "\n",
    "fig, ax1 = plt.subplots()\n",
    "ax2 = ax1.twinx()\n",
    "ax1.bar(points_sum.keys(), points_sum.values(), color=\"green\", align=\"edge\", width=-0.4)\n",
    "ax2.bar(att_sum.keys(), att_sum.values(), color=\"blue\", align=\"edge\", width=0.4)\n",
    "ax1.set_ylabel('Points Per Possession', color='g')\n",
    "ax2.set_ylabel('Shot Attempts', color='b')\n",
    "plt.show()"
   ]
  },
  {
   "cell_type": "code",
   "execution_count": null,
   "id": "cutting-glance",
   "metadata": {},
   "outputs": [],
   "source": []
  }
 ],
 "metadata": {
  "kernelspec": {
   "display_name": "Python 3",
   "language": "python",
   "name": "python3"
  },
  "language_info": {
   "codemirror_mode": {
    "name": "ipython",
    "version": 3
   },
   "file_extension": ".py",
   "mimetype": "text/x-python",
   "name": "python",
   "nbconvert_exporter": "python",
   "pygments_lexer": "ipython3",
   "version": "3.9.13"
  }
 },
 "nbformat": 4,
 "nbformat_minor": 5
}
