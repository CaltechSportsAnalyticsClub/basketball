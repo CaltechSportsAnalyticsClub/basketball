{
 "cells": [
  {
   "cell_type": "code",
   "execution_count": 1,
   "metadata": {},
   "outputs": [],
   "source": [
    "import synergy_scraper as ss"
   ]
  },
  {
   "cell_type": "code",
   "execution_count": 6,
   "metadata": {},
   "outputs": [],
   "source": [
    "feats = [\"Player\", \"GP\", \"Poss\", \"USG%\", \"PPP\", \"PPG\", \"RPG\", \"APG\", \"SPG\", \"BPG\", \"TOVPG\", \"FTA PG\", \"FTM PG\", \"FT%\", \"FGA PG\", \"FGM PG\", \"FG%\", \"3PA PG\", \"3PM PG\", \"3 FG%\", \"Ast/TO\", \"Ast Per 100 Poss\", \"Stl Per 100 Poss\", \"Blk Per 100 Poss\", \"Reb Per 100 Poss\", \"Off Reb Per 100 Poss\", \"Def Reb Per 100 Poss\", \"TO%\", \"eFG%\"]\n",
    "\n",
    "bs = ss.CumulativeBoxScore(\"whittier_cum_box.html\")\n",
    "df = bs.df()[feats]\n",
    "df.to_csv(\"whittier.csv\")"
   ]
  },
  {
   "cell_type": "code",
   "execution_count": 8,
   "metadata": {},
   "outputs": [],
   "source": [
    "feats = [\"Player\", \"GP\", \"Poss\", \"USG%\", \"PPP\", \"PPG\", \"RPG\", \"APG\", \"SPG\", \"BPG\", \"TOVPG\", \"FTA PG\", \"FTM PG\", \"FT%\", \"FGA PG\", \"FGM PG\", \"FG%\", \"3PA PG\", \"3PM PG\", \"3 FG%\", \"Ast/TO\", \"Ast Per 100 Poss\", \"Stl Per 100 Poss\", \"Blk Per 100 Poss\", \"Reb Per 100 Poss\", \"Off Reb Per 100 Poss\", \"Def Reb Per 100 Poss\", \"TO%\", \"eFG%\"]\n",
    "\n",
    "bs = ss.CumulativeBoxScore(\"caltech_cum_box.html\")\n",
    "df = bs.df()[feats]\n",
    "df.to_csv(\"caltech.csv\")"
   ]
  },
  {
   "cell_type": "code",
   "execution_count": 7,
   "metadata": {},
   "outputs": [
    {
     "data": {
      "text/plain": [
       "Index(['Player', 'GP', 'Poss', 'Pts', 'PPP', 'Ast', 'TO', 'TO%', 'Ast/TO',\n",
       "       'FG Att', 'FG Made', 'FG Miss', 'FG%', 'eFG%', '2 FG Att', '2 FG Made',\n",
       "       '2 FG Miss', '2 FG%', '3FG Att', '3 FG Made', '3 FG Miss', '3 FG%',\n",
       "       'FT Att', 'FT Made', 'FT Miss', 'FT%', '%FT', '+1', '+1%', 'Score%',\n",
       "       'SF', '%SF', 'Tot Reb', 'Off Reb', 'Def Reb', 'Stl', 'Stl Pos', 'Blk',\n",
       "       'Blk FGA', 'Chg Tkn', 'Chg Com', 'PF TKN', 'PF COM', 'USG%', 'PPG',\n",
       "       'RPG', 'Off RPG', 'Def RPG', 'APG', 'SPG', 'BPG', 'TOVPG', 'FTA PG',\n",
       "       'FTM PG', 'FGA PG', 'FGM PG', '3PA PG', '3PM PG', 'Ast Per 100 Poss',\n",
       "       'Stl Per 100 Poss', 'Blk Per 100 Poss', 'Reb Per 100 Poss',\n",
       "       'Off Reb Per 100 Poss', 'Def Reb Per 100 Poss'],\n",
       "      dtype='object')"
      ]
     },
     "execution_count": 7,
     "metadata": {},
     "output_type": "execute_result"
    }
   ],
   "source": [
    "bs.df().columns"
   ]
  }
 ],
 "metadata": {
  "kernelspec": {
   "display_name": "Python 3.9.13 64-bit",
   "language": "python",
   "name": "python3"
  },
  "language_info": {
   "codemirror_mode": {
    "name": "ipython",
    "version": 3
   },
   "file_extension": ".py",
   "mimetype": "text/x-python",
   "name": "python",
   "nbconvert_exporter": "python",
   "pygments_lexer": "ipython3",
   "version": "3.9.13"
  },
  "orig_nbformat": 4,
  "vscode": {
   "interpreter": {
    "hash": "949777d72b0d2535278d3dc13498b2535136f6dfe0678499012e853ee9abcab1"
   }
  }
 },
 "nbformat": 4,
 "nbformat_minor": 2
}
