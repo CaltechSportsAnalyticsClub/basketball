{
 "cells": [
  {
   "cell_type": "code",
   "execution_count": 2,
   "id": "collective-tablet",
   "metadata": {},
   "outputs": [],
   "source": [
    "import pandas as pd"
   ]
  },
  {
   "cell_type": "code",
   "execution_count": 3,
   "id": "cultural-pension",
   "metadata": {},
   "outputs": [],
   "source": [
    "def team_big_csv(team_name):\n",
    "    offense = pd.read_csv(f\"{team_name}offense.csv\", skiprows=1)\n",
    "    defense = pd.read_csv(f\"{team_name}defense.csv\", skiprows=1)\n",
    "    offense[\"Type\"] = \"Offense\"\n",
    "    defense[\"Type\"] = \"Defense\"\n",
    "    both = pd.concat([offense, defense])\n",
    "    both[\"Rating\"] = both[\"Pts\"]/both[\"Poss\"] * 100\n",
    "    both[\"Pace\"] = ((both[\"Poss\"].sum()/(both[\"GP\"] * 40))*40)/2\n",
    "    return both"
   ]
  },
  {
   "cell_type": "code",
   "execution_count": 4,
   "id": "discrete-sound",
   "metadata": {},
   "outputs": [],
   "source": [
    "def a_csv(file_name):\n",
    "    df = pd.read_csv(f\"{file_name}.csv\", skiprows=1)\n",
    "    df[\"Rating\"] = df[\"Pts\"]/df[\"Poss\"] * 100\n",
    "    df[\"Pace\"] = ((df[\"Poss\"].sum()/(df[\"GP\"] * 40))*40)/2\n",
    "    return df"
   ]
  },
  {
   "cell_type": "code",
   "execution_count": 5,
   "id": "valued-adoption",
   "metadata": {},
   "outputs": [],
   "source": [
    "caltech = team_big_csv(\"caltech\")\n",
    "westmont = team_big_csv(\"westmont\")"
   ]
  },
  {
   "cell_type": "code",
   "execution_count": 6,
   "id": "confident-seventh",
   "metadata": {},
   "outputs": [],
   "source": [
    "both = pd.concat([caltech, westmont])"
   ]
  },
  {
   "cell_type": "code",
   "execution_count": 7,
   "id": "graphic-mathematics",
   "metadata": {},
   "outputs": [
    {
     "data": {
      "text/html": [
       "<div>\n",
       "<style scoped>\n",
       "    .dataframe tbody tr th:only-of-type {\n",
       "        vertical-align: middle;\n",
       "    }\n",
       "\n",
       "    .dataframe tbody tr th {\n",
       "        vertical-align: top;\n",
       "    }\n",
       "\n",
       "    .dataframe thead th {\n",
       "        text-align: right;\n",
       "    }\n",
       "</style>\n",
       "<table border=\"1\" class=\"dataframe\">\n",
       "  <thead>\n",
       "    <tr style=\"text-align: right;\">\n",
       "      <th></th>\n",
       "      <th>#</th>\n",
       "      <th>Team</th>\n",
       "      <th>GP</th>\n",
       "      <th>%Time</th>\n",
       "      <th>Poss</th>\n",
       "      <th>Pts</th>\n",
       "      <th>PPP</th>\n",
       "      <th>FG Miss</th>\n",
       "      <th>FG Made</th>\n",
       "      <th>FG Att</th>\n",
       "      <th>FG%</th>\n",
       "      <th>eFG%</th>\n",
       "      <th>TO%</th>\n",
       "      <th>%FT</th>\n",
       "      <th>%SF</th>\n",
       "      <th>Score%</th>\n",
       "      <th>Type</th>\n",
       "      <th>Rating</th>\n",
       "      <th>Pace</th>\n",
       "    </tr>\n",
       "  </thead>\n",
       "  <tbody>\n",
       "    <tr>\n",
       "      <th>0</th>\n",
       "      <td>1</td>\n",
       "      <td>Caltech Beavers</td>\n",
       "      <td>27</td>\n",
       "      <td>100</td>\n",
       "      <td>2272</td>\n",
       "      <td>1803</td>\n",
       "      <td>0.794</td>\n",
       "      <td>1000</td>\n",
       "      <td>643</td>\n",
       "      <td>1643</td>\n",
       "      <td>39.1</td>\n",
       "      <td>46.4</td>\n",
       "      <td>19.4</td>\n",
       "      <td>10.6</td>\n",
       "      <td>7.4</td>\n",
       "      <td>35.2</td>\n",
       "      <td>Offense</td>\n",
       "      <td>79.357394</td>\n",
       "      <td>82.018519</td>\n",
       "    </tr>\n",
       "    <tr>\n",
       "      <th>0</th>\n",
       "      <td>1</td>\n",
       "      <td>Caltech Beavers</td>\n",
       "      <td>27</td>\n",
       "      <td>100</td>\n",
       "      <td>2157</td>\n",
       "      <td>1910</td>\n",
       "      <td>0.885</td>\n",
       "      <td>886</td>\n",
       "      <td>677</td>\n",
       "      <td>1563</td>\n",
       "      <td>43.3</td>\n",
       "      <td>49.2</td>\n",
       "      <td>16.0</td>\n",
       "      <td>13.2</td>\n",
       "      <td>8.3</td>\n",
       "      <td>41.1</td>\n",
       "      <td>Defense</td>\n",
       "      <td>88.548911</td>\n",
       "      <td>82.018519</td>\n",
       "    </tr>\n",
       "    <tr>\n",
       "      <th>0</th>\n",
       "      <td>1</td>\n",
       "      <td>Westmont Warriors</td>\n",
       "      <td>27</td>\n",
       "      <td>100</td>\n",
       "      <td>2265</td>\n",
       "      <td>2132</td>\n",
       "      <td>0.941</td>\n",
       "      <td>900</td>\n",
       "      <td>782</td>\n",
       "      <td>1682</td>\n",
       "      <td>46.5</td>\n",
       "      <td>53.7</td>\n",
       "      <td>16.7</td>\n",
       "      <td>11.3</td>\n",
       "      <td>8.3</td>\n",
       "      <td>42.4</td>\n",
       "      <td>Offense</td>\n",
       "      <td>94.128035</td>\n",
       "      <td>85.037037</td>\n",
       "    </tr>\n",
       "    <tr>\n",
       "      <th>0</th>\n",
       "      <td>1</td>\n",
       "      <td>Westmont Warriors</td>\n",
       "      <td>27</td>\n",
       "      <td>100</td>\n",
       "      <td>2327</td>\n",
       "      <td>2066</td>\n",
       "      <td>0.888</td>\n",
       "      <td>1017</td>\n",
       "      <td>769</td>\n",
       "      <td>1786</td>\n",
       "      <td>43.1</td>\n",
       "      <td>49.2</td>\n",
       "      <td>15.2</td>\n",
       "      <td>10.1</td>\n",
       "      <td>8.4</td>\n",
       "      <td>40.4</td>\n",
       "      <td>Defense</td>\n",
       "      <td>88.783842</td>\n",
       "      <td>85.037037</td>\n",
       "    </tr>\n",
       "  </tbody>\n",
       "</table>\n",
       "</div>"
      ],
      "text/plain": [
       "   #               Team  GP  %Time  Poss   Pts    PPP  FG Miss  FG Made  \\\n",
       "0  1    Caltech Beavers  27    100  2272  1803  0.794     1000      643   \n",
       "0  1    Caltech Beavers  27    100  2157  1910  0.885      886      677   \n",
       "0  1  Westmont Warriors  27    100  2265  2132  0.941      900      782   \n",
       "0  1  Westmont Warriors  27    100  2327  2066  0.888     1017      769   \n",
       "\n",
       "   FG Att   FG%  eFG%   TO%   %FT  %SF  Score%     Type     Rating       Pace  \n",
       "0    1643  39.1  46.4  19.4  10.6  7.4    35.2  Offense  79.357394  82.018519  \n",
       "0    1563  43.3  49.2  16.0  13.2  8.3    41.1  Defense  88.548911  82.018519  \n",
       "0    1682  46.5  53.7  16.7  11.3  8.3    42.4  Offense  94.128035  85.037037  \n",
       "0    1786  43.1  49.2  15.2  10.1  8.4    40.4  Defense  88.783842  85.037037  "
      ]
     },
     "execution_count": 7,
     "metadata": {},
     "output_type": "execute_result"
    }
   ],
   "source": [
    "both"
   ]
  },
  {
   "cell_type": "code",
   "execution_count": 34,
   "id": "sunset-villa",
   "metadata": {},
   "outputs": [
    {
     "data": {
      "text/html": [
       "<div>\n",
       "<style scoped>\n",
       "    .dataframe tbody tr th:only-of-type {\n",
       "        vertical-align: middle;\n",
       "    }\n",
       "\n",
       "    .dataframe tbody tr th {\n",
       "        vertical-align: top;\n",
       "    }\n",
       "\n",
       "    .dataframe thead th {\n",
       "        text-align: right;\n",
       "    }\n",
       "</style>\n",
       "<table border=\"1\" class=\"dataframe\">\n",
       "  <thead>\n",
       "    <tr style=\"text-align: right;\">\n",
       "      <th></th>\n",
       "      <th>#</th>\n",
       "      <th>Player</th>\n",
       "      <th>Team</th>\n",
       "      <th>GP</th>\n",
       "      <th>%Time</th>\n",
       "      <th>Poss</th>\n",
       "      <th>Pts</th>\n",
       "      <th>PPP</th>\n",
       "      <th>FG Miss</th>\n",
       "      <th>FG Made</th>\n",
       "      <th>FG Att</th>\n",
       "      <th>FG%</th>\n",
       "      <th>eFG%</th>\n",
       "      <th>TO%</th>\n",
       "      <th>%FT</th>\n",
       "      <th>%SF</th>\n",
       "      <th>Score%</th>\n",
       "      <th>Rating</th>\n",
       "      <th>Pace</th>\n",
       "    </tr>\n",
       "  </thead>\n",
       "  <tbody>\n",
       "    <tr>\n",
       "      <th>0</th>\n",
       "      <td>1</td>\n",
       "      <td>Jared Brown</td>\n",
       "      <td>Westmont Warriors</td>\n",
       "      <td>27</td>\n",
       "      <td>14.3</td>\n",
       "      <td>31</td>\n",
       "      <td>34</td>\n",
       "      <td>1.097</td>\n",
       "      <td>14</td>\n",
       "      <td>17</td>\n",
       "      <td>31</td>\n",
       "      <td>54.8</td>\n",
       "      <td>54.8</td>\n",
       "      <td>0</td>\n",
       "      <td>0.0</td>\n",
       "      <td>0.0</td>\n",
       "      <td>54.8</td>\n",
       "      <td>109.677419</td>\n",
       "      <td>1.500000</td>\n",
       "    </tr>\n",
       "    <tr>\n",
       "      <th>1</th>\n",
       "      <td>2</td>\n",
       "      <td>Ajay Singh</td>\n",
       "      <td>Westmont Warriors</td>\n",
       "      <td>25</td>\n",
       "      <td>21.8</td>\n",
       "      <td>22</td>\n",
       "      <td>20</td>\n",
       "      <td>0.909</td>\n",
       "      <td>12</td>\n",
       "      <td>10</td>\n",
       "      <td>22</td>\n",
       "      <td>45.5</td>\n",
       "      <td>45.5</td>\n",
       "      <td>0</td>\n",
       "      <td>0.0</td>\n",
       "      <td>0.0</td>\n",
       "      <td>45.5</td>\n",
       "      <td>90.909091</td>\n",
       "      <td>1.620000</td>\n",
       "    </tr>\n",
       "    <tr>\n",
       "      <th>2</th>\n",
       "      <td>3</td>\n",
       "      <td>Cade Roth</td>\n",
       "      <td>Westmont Warriors</td>\n",
       "      <td>20</td>\n",
       "      <td>10.7</td>\n",
       "      <td>12</td>\n",
       "      <td>16</td>\n",
       "      <td>1.333</td>\n",
       "      <td>5</td>\n",
       "      <td>7</td>\n",
       "      <td>12</td>\n",
       "      <td>58.3</td>\n",
       "      <td>58.3</td>\n",
       "      <td>0</td>\n",
       "      <td>16.7</td>\n",
       "      <td>16.7</td>\n",
       "      <td>58.3</td>\n",
       "      <td>133.333333</td>\n",
       "      <td>2.025000</td>\n",
       "    </tr>\n",
       "    <tr>\n",
       "      <th>3</th>\n",
       "      <td>4</td>\n",
       "      <td>Nate Meithof</td>\n",
       "      <td>Westmont Warriors</td>\n",
       "      <td>26</td>\n",
       "      <td>7.2</td>\n",
       "      <td>16</td>\n",
       "      <td>14</td>\n",
       "      <td>0.875</td>\n",
       "      <td>8</td>\n",
       "      <td>6</td>\n",
       "      <td>14</td>\n",
       "      <td>42.9</td>\n",
       "      <td>42.9</td>\n",
       "      <td>0</td>\n",
       "      <td>12.5</td>\n",
       "      <td>12.5</td>\n",
       "      <td>50.0</td>\n",
       "      <td>87.500000</td>\n",
       "      <td>1.557692</td>\n",
       "    </tr>\n",
       "  </tbody>\n",
       "</table>\n",
       "</div>"
      ],
      "text/plain": [
       "   #        Player               Team  GP  %Time  Poss  Pts    PPP  FG Miss  \\\n",
       "0  1   Jared Brown  Westmont Warriors  27   14.3    31   34  1.097       14   \n",
       "1  2    Ajay Singh  Westmont Warriors  25   21.8    22   20  0.909       12   \n",
       "2  3     Cade Roth  Westmont Warriors  20   10.7    12   16  1.333        5   \n",
       "3  4  Nate Meithof  Westmont Warriors  26    7.2    16   14  0.875        8   \n",
       "\n",
       "   FG Made  FG Att   FG%  eFG%  TO%   %FT   %SF  Score%      Rating      Pace  \n",
       "0       17      31  54.8  54.8    0   0.0   0.0    54.8  109.677419  1.500000  \n",
       "1       10      22  45.5  45.5    0   0.0   0.0    45.5   90.909091  1.620000  \n",
       "2        7      12  58.3  58.3    0  16.7  16.7    58.3  133.333333  2.025000  \n",
       "3        6      14  42.9  42.9    0  12.5  12.5    50.0   87.500000  1.557692  "
      ]
     },
     "execution_count": 34,
     "metadata": {},
     "output_type": "execute_result"
    }
   ],
   "source": [
    "a_csv(\"short\")"
   ]
  },
  {
   "cell_type": "code",
   "execution_count": 40,
   "id": "heavy-steel",
   "metadata": {},
   "outputs": [],
   "source": []
  },
  {
   "cell_type": "code",
   "execution_count": 52,
   "id": "printable-emerald",
   "metadata": {},
   "outputs": [],
   "source": [
    "att_sum = {\"Near Rim\": 0, \"Midrange\": 0, \"Threes\": 0}\n",
    "att_sum[\"Near Rim\"] = a_csv(\"atrim\")[\"FG Att\"].sum() + a_csv(\"aroundbasket\")[\"FG Att\"].sum()\n",
    "att_sum[\"Midrange\"] = a_csv(\"midrange\")[\"FG Att\"].sum()\n",
    "att_sum[\"Threes\"] = a_csv(\"Threes\")[\"FG Att\"].sum()"
   ]
  },
  {
   "cell_type": "code",
   "execution_count": 53,
   "id": "restricted-binding",
   "metadata": {},
   "outputs": [],
   "source": [
    "points_sum = {\"Near Rim\": 0, \"Midrange\": 0, \"Threes\": 0}\n",
    "points_sum[\"Near Rim\"] = (a_csv(\"atrim\")[\"Pts\"].sum() + a_csv(\"aroundbasket\")[\"Pts\"].sum()) / (a_csv(\"atrim\")[\"Poss\"].sum() + a_csv(\"aroundbasket\")[\"Poss\"].sum())\n",
    "points_sum[\"Midrange\"] = (a_csv(\"midrange\")[\"Pts\"].sum()) / (a_csv(\"midrange\")[\"Poss\"].sum())\n",
    "points_sum[\"Threes\"] = (a_csv(\"Threes\")[\"Pts\"].sum()) / (a_csv(\"Threes\")[\"Poss\"].sum())"
   ]
  },
  {
   "cell_type": "code",
   "execution_count": 54,
   "id": "extraordinary-maine",
   "metadata": {},
   "outputs": [
    {
     "data": {
      "text/plain": [
       "{'Near Rim': 1.2358887952822242,\n",
       " 'Midrange': 0.8898305084745762,\n",
       " 'Threes': 1.1145833333333333}"
      ]
     },
     "execution_count": 54,
     "metadata": {},
     "output_type": "execute_result"
    }
   ],
   "source": [
    "points_sum"
   ]
  },
  {
   "cell_type": "code",
   "execution_count": 55,
   "id": "nasty-seattle",
   "metadata": {},
   "outputs": [],
   "source": [
    "import matplotlib.pyplot as plt"
   ]
  },
  {
   "cell_type": "code",
   "execution_count": 56,
   "id": "smart-narrative",
   "metadata": {},
   "outputs": [
    {
     "data": {
      "text/plain": [
       "[<matplotlib.lines.Line2D at 0x11e4b9160>]"
      ]
     },
     "execution_count": 56,
     "metadata": {},
     "output_type": "execute_result"
    },
    {
     "data": {
      "image/png": "[encoded data removed]",
      "text/plain": [
       "<Figure size 432x288 with 1 Axes>"
      ]
     },
     "metadata": {
      "needs_background": "light"
     },
     "output_type": "display_data"
    }
   ],
   "source": [
    "plt.plot(points_sum.keys(), points_sum.values())\n",
    "plt.plot(att_sum.keys(), att_sum.values())"
   ]
  },
  {
   "cell_type": "code",
   "execution_count": null,
   "id": "third-horizontal",
   "metadata": {},
   "outputs": [],
   "source": []
  }
 ],
 "metadata": {
  "kernelspec": {
   "display_name": "Python 3",
   "language": "python",
   "name": "python3"
  },
  "language_info": {
   "codemirror_mode": {
    "name": "ipython",
    "version": 3
   },
   "file_extension": ".py",
   "mimetype": "text/x-python",
   "name": "python",
   "nbconvert_exporter": "python",
   "pygments_lexer": "ipython3",
   "version": "3.9.13"
  }
 },
 "nbformat": 4,
 "nbformat_minor": 5
}
