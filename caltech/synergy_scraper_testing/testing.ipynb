{
 "cells": [
  {
   "cell_type": "code",
   "execution_count": 1,
   "metadata": {},
   "outputs": [],
   "source": [
    "import synergy_scraper as ss"
   ]
  },
  {
   "cell_type": "code",
   "execution_count": 12,
   "metadata": {},
   "outputs": [],
   "source": [
    "feats = [\"Player\", \"GP\", \"Poss\", \"USG%\", \"PPP\", \"PPG\", \"RPG\", \"APG\", \"SPG\", \"BPG\", \"TOVPG\", \"FTA PG\", \"FTM PG\", \"FGA PG\", \"FGM PG\", \"3PA PG\", \"3PM PG\", \"Ast/TO\", \"Ast Per 100 Poss\", \"Stl Per 100 Poss\", \"Blk Per 100 Poss\", \"Reb Per 100 Poss\", \"Off Reb Per 100 Poss\", \"Def Reb Per 100 Poss\", \"TO%\", \"FT%\", \"FG%\", \"3 FG%\", \"eFG%\"]"
   ]
  },
  {
   "cell_type": "code",
   "execution_count": 13,
   "metadata": {},
   "outputs": [],
   "source": [
    "bs = ss.CumulativeBoxScore(\"boxscore.html\")\n",
    "df = bs.df()[feats]\n",
    "df.to_csv(\"caltech.csv\")"
   ]
  },
  {
   "cell_type": "code",
   "execution_count": 5,
   "metadata": {},
   "outputs": [],
   "source": [
    "bs = ss.CumulativeBoxScore(\"wcb.html\")\n",
    "df = bs.df()[feats]\n",
    "df.to_csv(\"wcb.csv\")"
   ]
  },
  {
   "cell_type": "code",
   "execution_count": 4,
   "metadata": {},
   "outputs": [],
   "source": [
    "import pandas as pd"
   ]
  },
  {
   "cell_type": "code",
   "execution_count": 20,
   "metadata": {},
   "outputs": [],
   "source": [
    "import os\n",
    "class TeamBoxScore:\n",
    "  def __init__(self, team_folder, opponent_folder):\n",
    "    self.team_folder = team_folder\n",
    "    self.opponent_folder = opponent_folder\n",
    "\n",
    "  def team_box_scores(self, home=False):\n",
    "    totals = {\"DREB\": 0, \"OREB\": 0, \"PTS\": 0, \"POSS\": 0}\n",
    "\n",
    "    if home:\n",
    "      folder = self.team_folder\n",
    "    else:\n",
    "      folder = self.opponent_folder\n",
    "\n",
    "    for filename in os.listdir(folder):\n",
    "      f = os.path.join(folder, filename)\n",
    "      html = pd.read_html(f)\n",
    "      starters = html[0].iloc[[-1]]\n",
    "      bench = html[1].iloc[[-1]]\n",
    "\n",
    "      if filename==\"game4.html\" and home == False:\n",
    "        print(starters[\"Pts\"].values[0]/starters[\"PPP\"].values[0])\n",
    "      \n",
    "      totals[\"DREB\"] += starters[\"Def Reb\"].values[0] + bench[\"Def Reb\"].values[0]\n",
    "      totals[\"OREB\"] += starters[\"Off Reb\"].values[0] + bench[\"Off Reb\"].values[0]\n",
    "      totals[\"PTS\"] += starters[\"Pts\"].values[0] + bench[\"Pts\"].values[0]\n",
    "      totals[\"POSS\"] += starters[\"Pts\"].values[0]/float(starters[\"PPP\"].values[0]) + bench[\"Pts\"].values[0]/float(bench[\"PPP\"].values[0])\n",
    "\n",
    "    return totals \n",
    "\n",
    "  def get_rates(self):\n",
    "    team_totals = self.team_box_scores(home=True)\n",
    "    opp_totals = self.team_box_scores(home=False)\n",
    "\n",
    "    team_rates = {}\n",
    "    team_rates[\"DREB\"] = team_totals[\"DREB\"] / (team_totals[\"DREB\"] + opp_totals[\"OREB\"])\n",
    "    team_rates[\"OREB\"] = team_totals[\"OREB\"] / (team_totals[\"OREB\"] + opp_totals[\"DREB\"])\n",
    "    team_rates[\"ORTG\"] = team_totals[\"PTS\"] / team_totals[\"POSS\"] * 100\n",
    "    team_rates[\"DRTG\"] = opp_totals[\"PTS\"] / opp_totals[\"POSS\"] * 100\n",
    "\n",
    "    return team_rates"
   ]
  },
  {
   "cell_type": "code",
   "execution_count": 21,
   "metadata": {},
   "outputs": [
    {
     "name": "stdout",
     "output_type": "stream",
     "text": [
      "63.9686684073107\n"
     ]
    },
    {
     "data": {
      "text/plain": [
       "{'DREB': 0.7869565217391304,\n",
       " 'OREB': 0.3179916317991632,\n",
       " 'ORTG': 72.42539511708293,\n",
       " 'DRTG': 98.39971466141044}"
      ]
     },
     "execution_count": 21,
     "metadata": {},
     "output_type": "execute_result"
    }
   ],
   "source": [
    "TeamBoxScore(\"caltech\", \"opponent\").get_rates()"
   ]
  }
 ],
 "metadata": {
  "kernelspec": {
   "display_name": "Python 3.9.13 64-bit",
   "language": "python",
   "name": "python3"
  },
  "language_info": {
   "codemirror_mode": {
    "name": "ipython",
    "version": 3
   },
   "file_extension": ".py",
   "mimetype": "text/x-python",
   "name": "python",
   "nbconvert_exporter": "python",
   "pygments_lexer": "ipython3",
   "version": "3.9.13"
  },
  "orig_nbformat": 4,
  "vscode": {
   "interpreter": {
    "hash": "949777d72b0d2535278d3dc13498b2535136f6dfe0678499012e853ee9abcab1"
   }
  }
 },
 "nbformat": 4,
 "nbformat_minor": 2
}
