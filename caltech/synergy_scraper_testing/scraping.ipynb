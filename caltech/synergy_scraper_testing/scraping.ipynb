{
 "cells": [
  {
   "cell_type": "code",
   "execution_count": 2,
   "metadata": {},
   "outputs": [],
   "source": [
    "from bs4 import BeautifulSoup"
   ]
  },
  {
   "cell_type": "code",
   "execution_count": 3,
   "metadata": {},
   "outputs": [],
   "source": [
    "soup = BeautifulSoup(open('pbp.html'), 'html.parser')"
   ]
  },
  {
   "cell_type": "code",
   "execution_count": 29,
   "metadata": {},
   "outputs": [],
   "source": [
    "pbp = soup.find_all(\"ts-tab-panel\", header=\"Play by Play\")[0]\n",
    "pbp_elements = pbp.find_all(\"tr\", \"ng-star-inserted\")"
   ]
  },
  {
   "cell_type": "code",
   "execution_count": 41,
   "metadata": {},
   "outputs": [],
   "source": [
    "def parse_element(i):\n",
    "  name = pbp_elements[i].find_all(\"div\", class_=\"flex flex-grow-0 h-5 text-secondary-900 font-semibold text-sm\")[0].text\n",
    "  #action = pbp_elements[i].find_all(\"div\", class_=\"break-words flex font-semibold justify-center text-center text-xs text-red-700\")[0].text\n",
    "  print(name, action)"
   ]
  },
  {
   "cell_type": "code",
   "execution_count": 45,
   "metadata": {},
   "outputs": [
    {
     "name": "stdout",
     "output_type": "stream",
     "text": [
      "Amar Ross  Miss 2 Pts \n"
     ]
    }
   ],
   "source": [
    "parse_element(5)"
   ]
  },
  {
   "cell_type": "code",
   "execution_count": 46,
   "metadata": {},
   "outputs": [
    {
     "data": {
      "text/plain": [
       "<tr _ngcontent-igm-c235=\"\" class=\"ng-star-inserted\"><td _ngcontent-igm-c235=\"\"><!-- --><div _ngcontent-igm-c235=\"\" class=\"xl:w-120 lg:w-80 ng-star-inserted\"></div><!-- --><!-- --></td><td _ngcontent-igm-c235=\"\" class=\"w-30\"><div _ngcontent-igm-c235=\"\" class=\"flex flex-col flex-grow-0 w-30 bg-secondary-200 p-1 rounded-lg cursor-pointerborder-2 border-2 border-transparent cursor-pointer ts-hovered-play mb-1 ts-selected-play ng-star-inserted\"><div _ngcontent-igm-c235=\"\" class=\"flex flex-col rounded-lg bg-lightest p-3 relative\"><i _ngcontent-igm-c235=\"\" class=\"las la-check-circle text-primary-600 align-middle mr-1 absolute top-0 left-0 p-1 opacity-0 ts-selected-play\"></i><div _ngcontent-igm-c235=\"\" class=\"flex flex-row text-secondary-700 text-xl border-b border-secondary-300\"><div _ngcontent-igm-c235=\"\" class=\"flex flex-1 justify-end\"> 0 </div><div _ngcontent-igm-c235=\"\" class=\"flex\">-</div><div _ngcontent-igm-c235=\"\" class=\"flex flex-1 justify-start font-semibold\"> 3 </div></div><div _ngcontent-igm-c235=\"\" class=\"flex flex-row text-sm text-secondary-600\"><div _ngcontent-igm-c235=\"\" class=\"flex w-8 flex-1\">H1</div><div _ngcontent-igm-c235=\"\" class=\"flex flex-row\"> 19:37 </div></div></div></div><!-- --></td><td _ngcontent-igm-c235=\"\"><a _ngcontent-igm-c235=\"\" class=\"flex rounded flex-row bg-lightest overflow-hidden border-2 border-transparent ts-hovered-play component-shadow-small-hover ts-selected-play home-play ts-playlist-link ng-star-inserted\" href=\"https://apps.synergysports.com/editor/#/video?playlistUrl=https%3A%2F%2Fbasketball.synergysportstech.com%2Fapi%2Fpossessionplaylists%2Fstatistics%2F37%2Fclips%3Fexpression%3DaWlkIGVxIDE0NDg2NTY5OA%253D%253D%26sort%3DgameDate%3Adesc%26take%3D500&amp;quality=mid\" target=\"_blank\"><div _ngcontent-igm-c235=\"\" class=\"flex w-full flex-col md:flex-row p-1 lg:p-2 xl:w-120 lg:w-80 border-l-8 border-homeTeam-2\"><ts-playbyplay-outcome _ngcontent-igm-c235=\"\" class=\"-ml-1\"><div class=\"flex flex-col w-16 items-center\"><div class=\"mb-2 px-2 py-1 rounded text-center text-white text-xs w-10 bg-homeTeam-2\"> # 4 </div><div class=\"break-words flex font-semibold justify-center text-center text-xs text-green-700\"> Make 3 Pts </div></div></ts-playbyplay-outcome><div _ngcontent-igm-c235=\"\" class=\"flex flex-1 justify-start mr-3 w-full\"><div _ngcontent-igm-c235=\"\" class=\"flex flex-col items-start\"><div _ngcontent-igm-c235=\"\" class=\"flex flex-grow-0 h-5 text-secondary-900 font-semibold text-sm\">Noah Hicks</div><div _ngcontent-igm-c235=\"\" class=\"flex flex-1 h-full text-sm text-secondary-800 text-left\">4 Noah Hicks &gt; Spot-Up &gt; No Dribble Jumper &gt; Guarded &gt; Long/3pt &gt; Make 3 Pts</div></div></div></div></a><!-- --><!-- --><!-- --></td></tr>"
      ]
     },
     "execution_count": 46,
     "metadata": {},
     "output_type": "execute_result"
    }
   ],
   "source": [
    "pbp_elements[2]"
   ]
  }
 ],
 "metadata": {
  "kernelspec": {
   "display_name": "Python 3.x",
   "language": "python",
   "name": "python3"
  },
  "language_info": {
   "codemirror_mode": {
    "name": "ipython",
    "version": 3
   },
   "file_extension": ".py",
   "mimetype": "text/x-python",
   "name": "python",
   "nbconvert_exporter": "python",
   "pygments_lexer": "ipython3",
   "version": "3"
  },
  "orig_nbformat": 4,
  "vscode": {
   "interpreter": {
    "hash": "31f2aee4e71d21fbe5cf8b01ff0e069b9275f58929596ceb00d14d90e3e16cd6"
   }
  }
 },
 "nbformat": 4,
 "nbformat_minor": 2
}
